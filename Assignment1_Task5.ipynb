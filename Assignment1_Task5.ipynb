{
  "nbformat": 4,
  "nbformat_minor": 0,
  "metadata": {
    "colab": {
      "provenance": [],
      "authorship_tag": "ABX9TyMFvgeeWPL4TzNLiBlyckj4",
      "include_colab_link": true
    },
    "kernelspec": {
      "name": "python3",
      "display_name": "Python 3"
    },
    "language_info": {
      "name": "python"
    }
  },
  "cells": [
    {
      "cell_type": "markdown",
      "metadata": {
        "id": "view-in-github",
        "colab_type": "text"
      },
      "source": [
        "<a href=\"https://colab.research.google.com/github/NehaKumari500092077/Visual-Computing/blob/main/Assignment1_Task5.ipynb\" target=\"_parent\"><img src=\"https://colab.research.google.com/assets/colab-badge.svg\" alt=\"Open In Colab\"/></a>"
      ]
    },
    {
      "cell_type": "markdown",
      "source": [
        "#Task 5: Bicubic Interpolation (6 Marks)\n",
        "Upsample an image by a factor of 4 for width and 4 for height using bicubic interpolation. Implement the interpolation manually without using OpenCV's interpolation functions. Verify the result using OpenCV. Use a_1_task_5.png as input.\n"
      ],
      "metadata": {
        "id": "mUACijfzCBOu"
      }
    }
  ]
}