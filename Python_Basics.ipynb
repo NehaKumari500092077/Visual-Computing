{
  "cells": [
    {
      "cell_type": "markdown",
      "metadata": {
        "id": "view-in-github",
        "colab_type": "text"
      },
      "source": [
        "<a href=\"https://colab.research.google.com/github/NehaKumari500092077/Visual-Computing/blob/main/Python_Basics.ipynb\" target=\"_parent\"><img src=\"https://colab.research.google.com/assets/colab-badge.svg\" alt=\"Open In Colab\"/></a>"
      ]
    },
    {
      "cell_type": "markdown",
      "metadata": {
        "id": "2dPs7VHLxYpC"
      },
      "source": [
        "**Check Python version**"
      ]
    },
    {
      "cell_type": "code",
      "execution_count": null,
      "metadata": {
        "colab": {
          "base_uri": "https://localhost:8080/"
        },
        "id": "Gcsjv6aqxL65",
        "outputId": "1b69a546-463f-4d69-9349-1bb3dcc1a005"
      },
      "outputs": [
        {
          "name": "stdout",
          "output_type": "stream",
          "text": [
            "3.10.12 (main, Mar 22 2024, 16:50:05) [GCC 11.4.0]\n"
          ]
        }
      ],
      "source": [
        "import sys\n",
        "\n",
        "print(sys.version)"
      ]
    },
    {
      "cell_type": "markdown",
      "metadata": {
        "id": "S6IjJLozyHnz"
      },
      "source": [
        "comments in python"
      ]
    },
    {
      "cell_type": "code",
      "execution_count": null,
      "metadata": {
        "id": "FrUe9J9dxXf4"
      },
      "outputs": [],
      "source": [
        "# this is a comment."
      ]
    },
    {
      "cell_type": "markdown",
      "metadata": {
        "id": "vOslDrS5yvC3"
      },
      "source": [
        "# Python Variables"
      ]
    },
    {
      "cell_type": "code",
      "execution_count": null,
      "metadata": {
        "colab": {
          "base_uri": "https://localhost:8080/"
        },
        "id": "BTn9sW0CyObh",
        "outputId": "575a74f1-23a5-4198-fbc4-80ef2e1cb4eb"
      },
      "outputs": [
        {
          "name": "stdout",
          "output_type": "stream",
          "text": [
            "2\n",
            "<class 'int'>\n",
            "True\n",
            "<class 'bool'>\n",
            "Rahul\n",
            "<class 'str'>\n",
            "[2, 3, 4, 5]\n",
            "<class 'list'>\n"
          ]
        }
      ],
      "source": [
        "x=2\n",
        "print(x)\n",
        "print(type(x))\n",
        "x=True\n",
        "print(x)\n",
        "print(type(x))\n",
        "x='Rahul'\n",
        "print(x)\n",
        "print(type(x))\n",
        "x=[2,3,4,5]\n",
        "print(x)\n",
        "print(type(x))"
      ]
    },
    {
      "cell_type": "markdown",
      "metadata": {
        "id": "RVNJbU3L0afC"
      },
      "source": [
        "You can assign a variable with its type"
      ]
    },
    {
      "cell_type": "code",
      "execution_count": null,
      "metadata": {
        "colab": {
          "base_uri": "https://localhost:8080/"
        },
        "id": "KZmJqmczzGaB",
        "outputId": "a691a589-45ae-4025-88b1-a020d7ff9a3f"
      },
      "outputs": [
        {
          "name": "stdout",
          "output_type": "stream",
          "text": [
            "2\n",
            "<class 'int'>\n",
            "2.0\n",
            "<class 'float'>\n",
            "2\n",
            "<class 'str'>\n"
          ]
        }
      ],
      "source": [
        "x=int(2)\n",
        "print(x)\n",
        "print(type(x))\n",
        "x=float(2)\n",
        "print(x)\n",
        "print(type(x))\n",
        "x=str(2)\n",
        "print(x)\n",
        "print(type(x))"
      ]
    },
    {
      "cell_type": "markdown",
      "metadata": {
        "id": "TZ2K1bwI1QBB"
      },
      "source": [
        "# Operators in Python"
      ]
    },
    {
      "cell_type": "markdown",
      "metadata": {
        "id": "y6CUUcfu3JNL"
      },
      "source": [
        "Arithmatic operators"
      ]
    },
    {
      "cell_type": "code",
      "execution_count": null,
      "metadata": {
        "colab": {
          "base_uri": "https://localhost:8080/"
        },
        "id": "vLDpPElb0nRJ",
        "outputId": "115b38a1-f6bd-474e-9c1b-b84a189cdab0"
      },
      "outputs": [
        {
          "name": "stdout",
          "output_type": "stream",
          "text": [
            "10\n",
            "6\n",
            "16\n",
            "4.0\n",
            "4\n",
            "0\n",
            "64\n"
          ]
        }
      ],
      "source": [
        "x=8\n",
        "y=2\n",
        "print(x+y)\n",
        "print(x-y)\n",
        "print(x*y)\n",
        "print(x/y)\n",
        "print(x//y)\n",
        "print(x%y)\n",
        "print(x**y)"
      ]
    },
    {
      "cell_type": "markdown",
      "metadata": {
        "id": "euGl3mz54GJ8"
      },
      "source": [
        "Assigning operators"
      ]
    },
    {
      "cell_type": "code",
      "execution_count": null,
      "metadata": {
        "colab": {
          "base_uri": "https://localhost:8080/"
        },
        "id": "6ZAmoxkK4J8r",
        "outputId": "05b54f4f-c6a1-47c3-ef4f-474285b66c91"
      },
      "outputs": [
        {
          "name": "stdout",
          "output_type": "stream",
          "text": [
            "8\n",
            "10\n",
            "8\n",
            "16\n",
            "8.0\n"
          ]
        }
      ],
      "source": [
        "x=8\n",
        "print(x)\n",
        "x+=2\n",
        "print(x)\n",
        "x-=2\n",
        "print(x)\n",
        "x*=2\n",
        "print(x)\n",
        "x/=2\n",
        "print(x)"
      ]
    },
    {
      "cell_type": "markdown",
      "metadata": {
        "id": "20vUSqh84v8V"
      },
      "source": [
        "comparison operator"
      ]
    },
    {
      "cell_type": "code",
      "execution_count": null,
      "metadata": {
        "id": "r99yU2i41fSI"
      },
      "outputs": [],
      "source": [
        "print(2==2)\n",
        "print(2>1)\n",
        "print(2>3)"
      ]
    },
    {
      "cell_type": "markdown",
      "metadata": {
        "id": "ymquZh5M4zik"
      },
      "source": [
        "logical operator"
      ]
    },
    {
      "cell_type": "code",
      "execution_count": null,
      "metadata": {
        "colab": {
          "base_uri": "https://localhost:8080/"
        },
        "id": "tWzV4GHa41e6",
        "outputId": "6c342a47-0cf6-48e9-8817-878380944157"
      },
      "outputs": [
        {
          "name": "stdout",
          "output_type": "stream",
          "text": [
            "False\n",
            "True\n",
            "False\n"
          ]
        }
      ],
      "source": [
        "print(2>1 and 2>3) # returns True if both statements are True\n",
        "print(2>1 or 2>3) # returns True if any one statement is True\n",
        "print(not(2>1)) # returns reverse. returns True if result is False"
      ]
    },
    {
      "cell_type": "markdown",
      "metadata": {
        "id": "c5Q0nX5y5rxM"
      },
      "source": [
        "membership operator"
      ]
    },
    {
      "cell_type": "code",
      "execution_count": null,
      "metadata": {
        "colab": {
          "base_uri": "https://localhost:8080/"
        },
        "id": "WiBdiTPq5dtS",
        "outputId": "fc8a5113-3376-4773-eb8c-20afd47c6549"
      },
      "outputs": [
        {
          "name": "stdout",
          "output_type": "stream",
          "text": [
            "True\n",
            "False\n"
          ]
        }
      ],
      "source": [
        "x=[2,3,4,5]\n",
        "print(2 in x)\n",
        "print(2 not in x)"
      ]
    },
    {
      "cell_type": "markdown",
      "metadata": {
        "id": "BCuBzgwe6ASS"
      },
      "source": [
        "operator precedence"
      ]
    },
    {
      "cell_type": "markdown",
      "metadata": {
        "id": "WUG6IfSr5wqZ",
        "outputId": "b624c3f4-c7cc-4081-9649-4e1bc19c7380"
      },
      "source": [
        "#parentheses has the highest precedence\n",
        "print(2+3*4)\n",
        "print((2+3)*4)"
      ]
    },
    {
      "cell_type": "markdown",
      "metadata": {
        "id": "F54bQ5XrrvSi"
      },
      "source": [
        "# Python Data Structures"
      ]
    },
    {
      "cell_type": "markdown",
      "metadata": {
        "id": "nre43-ws8RJT"
      },
      "source": [
        "## Lists"
      ]
    },
    {
      "cell_type": "code",
      "execution_count": null,
      "metadata": {
        "colab": {
          "base_uri": "https://localhost:8080/"
        },
        "id": "u8GHzp2M6V3i",
        "outputId": "d71610a7-3f4e-40c6-bcb8-8d0c068f7eb8"
      },
      "outputs": [
        {
          "name": "stdout",
          "output_type": "stream",
          "text": [
            "[1, 2, 3, 4, 5]\n"
          ]
        }
      ],
      "source": [
        "list1=[1,2,3,4,5]\n",
        "print(list1)"
      ]
    },
    {
      "cell_type": "markdown",
      "metadata": {
        "id": "e6Oi5ZhV8cnN"
      },
      "source": [
        "list items are ordered, changeable, and allow duplicate values"
      ]
    },
    {
      "cell_type": "markdown",
      "metadata": {
        "id": "zLttBvwT9SBl"
      },
      "source": [
        "access items in a list"
      ]
    },
    {
      "cell_type": "code",
      "execution_count": null,
      "metadata": {
        "colab": {
          "base_uri": "https://localhost:8080/"
        },
        "id": "TXWMeE6j8bVL",
        "outputId": "847d77ee-6ffd-4e85-fc86-1a1b0221ad36"
      },
      "outputs": [
        {
          "name": "stdout",
          "output_type": "stream",
          "text": [
            "1\n",
            "5\n"
          ]
        }
      ],
      "source": [
        "list1=[1,2,3,4,5]\n",
        "print(list1[0])\n",
        "print(list1[-1])"
      ]
    },
    {
      "cell_type": "markdown",
      "metadata": {
        "id": "cSYnniVB9pMN"
      },
      "source": [
        "change an item of a list"
      ]
    },
    {
      "cell_type": "code",
      "execution_count": null,
      "metadata": {
        "colab": {
          "base_uri": "https://localhost:8080/"
        },
        "id": "vX5HT-w39Y6K",
        "outputId": "16576f7d-42a2-4054-e8ca-a772285ac8ab"
      },
      "outputs": [
        {
          "name": "stdout",
          "output_type": "stream",
          "text": [
            "['black', 'blue', 'green', 'yellow']\n"
          ]
        }
      ],
      "source": [
        "x=['red', 'blue', 'green', 'yellow']\n",
        "x[0]='black'\n",
        "print(x)"
      ]
    },
    {
      "cell_type": "markdown",
      "metadata": {
        "id": "B_TzPUsB-Qjx"
      },
      "source": [
        "append item at the end of a list"
      ]
    },
    {
      "cell_type": "code",
      "execution_count": null,
      "metadata": {
        "colab": {
          "base_uri": "https://localhost:8080/"
        },
        "id": "iKJaHMlC9uAT",
        "outputId": "f5d03f52-81b2-4725-f1ae-482d6dc65ced"
      },
      "outputs": [
        {
          "name": "stdout",
          "output_type": "stream",
          "text": [
            "[1, 2, 3, 4, 5, 6]\n"
          ]
        }
      ],
      "source": [
        "list1=[1,2,3,4,5]\n",
        "list1.append(6)\n",
        "print(list1)"
      ]
    },
    {
      "cell_type": "markdown",
      "metadata": {
        "id": "QFetGHdX-Z49"
      },
      "source": [
        "insert item in a list"
      ]
    },
    {
      "cell_type": "code",
      "execution_count": null,
      "metadata": {
        "colab": {
          "base_uri": "https://localhost:8080/"
        },
        "id": "eKBbjwod-YEc",
        "outputId": "4574a669-6065-48c7-8308-76a9542d3e14"
      },
      "outputs": [
        {
          "name": "stdout",
          "output_type": "stream",
          "text": [
            "[1, 2, 3, 6, 4, 5]\n"
          ]
        }
      ],
      "source": [
        "list1=[1,2,3,4,5]\n",
        "list1.insert(3,6)\n",
        "print(list1)"
      ]
    },
    {
      "cell_type": "markdown",
      "metadata": {
        "id": "xT7kd3zZ-7i3"
      },
      "source": [
        "remove the last item of a list"
      ]
    },
    {
      "cell_type": "code",
      "execution_count": null,
      "metadata": {
        "colab": {
          "base_uri": "https://localhost:8080/"
        },
        "id": "3WeXWoEF-hIb",
        "outputId": "6967fce3-be84-4d7b-df4d-643822a4a7f7"
      },
      "outputs": [
        {
          "name": "stdout",
          "output_type": "stream",
          "text": [
            "[1, 2, 3, 4]\n"
          ]
        }
      ],
      "source": [
        "list1=[1,2,3,4,5]\n",
        "list1.pop()\n",
        "print(list1)"
      ]
    },
    {
      "cell_type": "markdown",
      "metadata": {
        "id": "NhXVHiUz_JEO"
      },
      "source": [
        "remove a specified item"
      ]
    },
    {
      "cell_type": "code",
      "execution_count": null,
      "metadata": {
        "colab": {
          "base_uri": "https://localhost:8080/"
        },
        "id": "GjQo9brF_CUU",
        "outputId": "7ee21c47-930b-4b7c-a519-d8959673bbf3"
      },
      "outputs": [
        {
          "name": "stdout",
          "output_type": "stream",
          "text": [
            "['red', 'green', 'yellow']\n"
          ]
        }
      ],
      "source": [
        "list1=['red', 'blue', 'green', 'yellow']\n",
        "list1.remove('blue')\n",
        "print(list1)"
      ]
    },
    {
      "cell_type": "markdown",
      "metadata": {
        "id": "BpC1PhIw_rJk"
      },
      "source": [
        "make a copy of alist"
      ]
    },
    {
      "cell_type": "code",
      "execution_count": null,
      "metadata": {
        "colab": {
          "base_uri": "https://localhost:8080/"
        },
        "id": "d3A9UG73_U8L",
        "outputId": "9f312112-f3e7-4f94-ab89-e24c7837510d"
      },
      "outputs": [
        {
          "name": "stdout",
          "output_type": "stream",
          "text": [
            "[1, 2, 3, 4, 5]\n"
          ]
        }
      ],
      "source": [
        "list1=[1,2,3,4,5]\n",
        "list2=list1.copy()\n",
        "print(list2)"
      ]
    },
    {
      "cell_type": "markdown",
      "metadata": {
        "id": "MZeXFWFh_0F7"
      },
      "source": [
        "join lists"
      ]
    },
    {
      "cell_type": "code",
      "execution_count": null,
      "metadata": {
        "colab": {
          "base_uri": "https://localhost:8080/"
        },
        "id": "ekZB4int_wEy",
        "outputId": "5c7713dc-2c6d-4ef7-9873-a77664ace08c"
      },
      "outputs": [
        {
          "name": "stdout",
          "output_type": "stream",
          "text": [
            "[1, 2, 3, 4, 5, 'blue', 'red', 'black', 'yellow']\n"
          ]
        }
      ],
      "source": [
        "list1=[1,2,3,4,5]\n",
        "list2=['blue', 'red', 'black', 'yellow']\n",
        "list3=list1+list2\n",
        "print(list3)"
      ]
    },
    {
      "cell_type": "markdown",
      "metadata": {
        "id": "VOhcpsjU9Rie"
      },
      "source": [
        "Create a tuple.\n",
        "Tuple items are ordered, unchangeable, and allow duplicate values."
      ]
    },
    {
      "cell_type": "code",
      "execution_count": null,
      "metadata": {
        "colab": {
          "base_uri": "https://localhost:8080/"
        },
        "id": "BGgySsd8AAMM",
        "outputId": "16639cf0-cfc1-4869-9896-6b35597c1db6"
      },
      "outputs": [
        {
          "name": "stdout",
          "output_type": "stream",
          "text": [
            "('blue', 'red', 'black', 'green')\n"
          ]
        }
      ],
      "source": [
        "tupple1=('blue','red','black','green')\n",
        "print(tupple1)"
      ]
    },
    {
      "cell_type": "markdown",
      "metadata": {
        "id": "s-ylKIYtrvSq"
      },
      "source": [
        "## Sets"
      ]
    },
    {
      "cell_type": "markdown",
      "metadata": {
        "id": "eWuFEait-FwV"
      },
      "source": [
        "crate a set. Set items are unordered, unchangeable, and not allow duplicate values."
      ]
    },
    {
      "cell_type": "code",
      "execution_count": null,
      "metadata": {
        "colab": {
          "base_uri": "https://localhost:8080/"
        },
        "id": "tgblnKcF9YHF",
        "outputId": "fee2c0d9-14c9-42ea-bf17-91974eae39d5"
      },
      "outputs": [
        {
          "name": "stdout",
          "output_type": "stream",
          "text": [
            "{'green', 'black', 'blue', 'red'}\n"
          ]
        }
      ],
      "source": [
        "set1={'blue','red','black','green'}\n",
        "print(set1)"
      ]
    },
    {
      "cell_type": "code",
      "execution_count": null,
      "metadata": {
        "colab": {
          "base_uri": "https://localhost:8080/"
        },
        "id": "dRh-Rmk3-1Nz",
        "outputId": "03e1d395-46f0-4d0b-a3ba-65b1f5ef2543"
      },
      "outputs": [
        {
          "name": "stdout",
          "output_type": "stream",
          "text": [
            "{'green', 'black', 'blue', 'red'}\n"
          ]
        }
      ],
      "source": [
        "set1={'blue','red','black','green','red'}\n",
        "print(set1)"
      ]
    },
    {
      "cell_type": "markdown",
      "metadata": {
        "id": "WvmtfwfWAUa3"
      },
      "source": [
        "Add an item to a set"
      ]
    },
    {
      "cell_type": "code",
      "execution_count": null,
      "metadata": {
        "colab": {
          "base_uri": "https://localhost:8080/"
        },
        "id": "p5VZxIsb_hCt",
        "outputId": "fef4e669-6776-4dec-83a7-13e0e62b9b26"
      },
      "outputs": [
        {
          "name": "stdout",
          "output_type": "stream",
          "text": [
            "{'blue', 'black', 'yellow', 'green', 'red'}\n"
          ]
        }
      ],
      "source": [
        "set1={'blue','red','black','green'}\n",
        "set1.add('yellow')\n",
        "print(set1)"
      ]
    },
    {
      "cell_type": "markdown",
      "metadata": {
        "id": "yPpgnRqIBTCg"
      },
      "source": [
        "Add two sets"
      ]
    },
    {
      "cell_type": "code",
      "execution_count": null,
      "metadata": {
        "colab": {
          "base_uri": "https://localhost:8080/"
        },
        "id": "RN_4xV1xAdU9",
        "outputId": "1743126c-5755-4041-c242-863507ff14f9"
      },
      "outputs": [
        {
          "name": "stdout",
          "output_type": "stream",
          "text": [
            "{'green', 'blue', 'orange', 'purple', 'black', 'yellow', 'red'}\n"
          ]
        }
      ],
      "source": [
        "set1={'blue','red','black','green'}\n",
        "set2={'yellow','orange','purple'}\n",
        "set3=set1.union(set2)\n",
        "print(set3)"
      ]
    },
    {
      "cell_type": "markdown",
      "metadata": {
        "id": "Gk0vW0F6BW7Y"
      },
      "source": [
        "remove items from a set"
      ]
    },
    {
      "cell_type": "code",
      "execution_count": null,
      "metadata": {
        "colab": {
          "base_uri": "https://localhost:8080/"
        },
        "id": "Tlp3gK_1AmKk",
        "outputId": "4ea378a0-3839-478b-8c55-171f28d7cdcb"
      },
      "outputs": [
        {
          "name": "stdout",
          "output_type": "stream",
          "text": [
            "{'green', 'black', 'blue'}\n"
          ]
        }
      ],
      "source": [
        "set1={'blue','red','black','green'}\n",
        "set1.remove('red')\n",
        "print(set1)"
      ]
    },
    {
      "cell_type": "markdown",
      "metadata": {
        "id": "hSY3INqKrvSr"
      },
      "source": [
        "## Dictionaries"
      ]
    },
    {
      "cell_type": "markdown",
      "metadata": {
        "id": "jmawoq2KBuPm"
      },
      "source": [
        "create a dictionary. Dictionary is a collection of keys and values. Dictionar is ordered, changeable and not allow duplicates."
      ]
    },
    {
      "cell_type": "code",
      "execution_count": null,
      "metadata": {
        "colab": {
          "base_uri": "https://localhost:8080/"
        },
        "id": "kA6eRyhwBcJu",
        "outputId": "2f210d00-12b8-4340-d73c-47cee011fc3a"
      },
      "outputs": [
        {
          "name": "stdout",
          "output_type": "stream",
          "text": [
            "{'mango': 'yellow', 'apple': 'red', 'orange': 'orange'}\n"
          ]
        }
      ],
      "source": [
        "dict1={'mango':'yellow','apple':'red','orange':'orange'}\n",
        "print(dict1)"
      ]
    },
    {
      "cell_type": "markdown",
      "metadata": {
        "id": "qUcSNBNeCu9A"
      },
      "source": [
        "find the value of a key in a dictionary."
      ]
    },
    {
      "cell_type": "code",
      "execution_count": null,
      "metadata": {
        "colab": {
          "base_uri": "https://localhost:8080/"
        },
        "id": "mrHF4__sCbWm",
        "outputId": "de48e80b-aa8e-46ed-a4f5-d5a7a7fb4b4a"
      },
      "outputs": [
        {
          "name": "stdout",
          "output_type": "stream",
          "text": [
            "yellow\n"
          ]
        }
      ],
      "source": [
        "dict1={'mango':'yellow','apple':'red','orange':'orange'}\n",
        "print(dict1['mango'])"
      ]
    },
    {
      "cell_type": "markdown",
      "metadata": {
        "id": "VtAPQCi-DDMO"
      },
      "source": [
        "change the value of a key."
      ]
    },
    {
      "cell_type": "code",
      "execution_count": null,
      "metadata": {
        "colab": {
          "base_uri": "https://localhost:8080/"
        },
        "id": "oghXOR8iC2Rf",
        "outputId": "a62b921c-4341-461a-a842-dec9a7f9cf5e"
      },
      "outputs": [
        {
          "name": "stdout",
          "output_type": "stream",
          "text": [
            "{'mango': 'green', 'apple': 'red', 'orange': 'orange'}\n"
          ]
        }
      ],
      "source": [
        "dict1={'mango':'yellow','apple':'red','orange':'orange'}\n",
        "dict1['mango']='green'\n",
        "print(dict1)"
      ]
    },
    {
      "cell_type": "markdown",
      "metadata": {
        "id": "JWsOs5HtDc0f"
      },
      "source": [
        "Add items to a dictionary."
      ]
    },
    {
      "cell_type": "code",
      "execution_count": null,
      "metadata": {
        "colab": {
          "base_uri": "https://localhost:8080/"
        },
        "id": "Sv0ijUCCDJ30",
        "outputId": "75ec18f4-20d0-405d-9c38-52083ec3fe5d"
      },
      "outputs": [
        {
          "name": "stdout",
          "output_type": "stream",
          "text": [
            "{'mango': 'yellow', 'apple': 'red', 'orange': 'orange', 'banana': 'yellow'}\n"
          ]
        }
      ],
      "source": [
        "dict1={'mango':'yellow','apple':'red','orange':'orange'}\n",
        "dict1['banana']='yellow'\n",
        "print(dict1)"
      ]
    },
    {
      "cell_type": "markdown",
      "metadata": {
        "id": "tQl5ufrkDx-O"
      },
      "source": [
        "remove items from a dictionary."
      ]
    },
    {
      "cell_type": "code",
      "execution_count": null,
      "metadata": {
        "colab": {
          "base_uri": "https://localhost:8080/"
        },
        "id": "QpwsLxuYDiqt",
        "outputId": "dfb26dea-5316-405a-b326-d6a59212cd5d"
      },
      "outputs": [
        {
          "name": "stdout",
          "output_type": "stream",
          "text": [
            "{'mango': 'yellow', 'orange': 'orange'}\n"
          ]
        }
      ],
      "source": [
        "dict1={'mango':'yellow','apple':'red','orange':'orange'}\n",
        "dict1.pop('apple')\n",
        "print(dict1)"
      ]
    },
    {
      "cell_type": "markdown",
      "metadata": {
        "id": "hVCjfNs4EFw_"
      },
      "source": [
        "# Conditional Statements"
      ]
    },
    {
      "cell_type": "markdown",
      "metadata": {
        "id": "u7Ozt7virvSt"
      },
      "source": [
        "**if statement**"
      ]
    },
    {
      "cell_type": "code",
      "execution_count": null,
      "metadata": {
        "colab": {
          "base_uri": "https://localhost:8080/"
        },
        "id": "7Mfqk6YmD2rl",
        "outputId": "8f63b216-c60e-4644-f222-4b9d3c4e518f"
      },
      "outputs": [
        {
          "name": "stdout",
          "output_type": "stream",
          "text": [
            "x is less than 5\n"
          ]
        }
      ],
      "source": [
        "x=4\n",
        "if x>5:\n",
        "  print('x is greater than 5')\n",
        "elif x==5:\n",
        "  print('x is equal to 5')\n",
        "else:\n",
        "  print('x is less than 5')"
      ]
    },
    {
      "cell_type": "markdown",
      "metadata": {
        "id": "6xKqd6qfE4zA"
      },
      "source": [
        "**while statement**"
      ]
    },
    {
      "cell_type": "code",
      "execution_count": null,
      "metadata": {
        "colab": {
          "base_uri": "https://localhost:8080/"
        },
        "id": "cV0ftUbUEVfb",
        "outputId": "73362254-dcaf-49a1-c65d-e966409b3120"
      },
      "outputs": [
        {
          "name": "stdout",
          "output_type": "stream",
          "text": [
            "1\n",
            "2\n",
            "3\n",
            "4\n",
            "5\n",
            "6\n"
          ]
        }
      ],
      "source": [
        "x=0\n",
        "while x<=5:\n",
        "  x+=1\n",
        "  print(x)"
      ]
    },
    {
      "cell_type": "markdown",
      "metadata": {
        "id": "1vwQwLqhFAKv"
      },
      "source": [
        "stop the loop"
      ]
    },
    {
      "cell_type": "code",
      "execution_count": null,
      "metadata": {
        "colab": {
          "base_uri": "https://localhost:8080/"
        },
        "id": "Ica-7Q6_E-Au",
        "outputId": "31ff4ce8-39d0-460c-eb8c-dd8d96127674"
      },
      "outputs": [
        {
          "name": "stdout",
          "output_type": "stream",
          "text": [
            "1\n",
            "2\n"
          ]
        }
      ],
      "source": [
        "x=0\n",
        "while x<=5:\n",
        "  x+=1\n",
        "  if x==3:\n",
        "    break\n",
        "  print(x)"
      ]
    },
    {
      "cell_type": "markdown",
      "metadata": {
        "id": "V0dCQ2TPFKl3"
      },
      "source": [
        "stop the loop for a single iteration"
      ]
    },
    {
      "cell_type": "code",
      "execution_count": null,
      "metadata": {
        "colab": {
          "base_uri": "https://localhost:8080/"
        },
        "id": "6LCLWCkAFGR9",
        "outputId": "d8eb923c-6143-4206-f5a5-9da73fcedc30"
      },
      "outputs": [
        {
          "name": "stdout",
          "output_type": "stream",
          "text": [
            "1\n",
            "2\n",
            "4\n",
            "5\n",
            "6\n"
          ]
        }
      ],
      "source": [
        "x=0\n",
        "while x<=5:\n",
        "  x+=1\n",
        "  if x==3:\n",
        "    continue\n",
        "  print(x)"
      ]
    },
    {
      "cell_type": "markdown",
      "metadata": {
        "id": "PmOJkbgxGirW"
      },
      "source": [
        "for loop"
      ]
    },
    {
      "cell_type": "code",
      "execution_count": null,
      "metadata": {
        "colab": {
          "base_uri": "https://localhost:8080/"
        },
        "id": "nI2XPOnqFQg9",
        "outputId": "e5551d7e-df18-4b3a-8fb1-0c1887fa1629"
      },
      "outputs": [
        {
          "name": "stdout",
          "output_type": "stream",
          "text": [
            "red\n",
            "blue\n",
            "green\n",
            "yellow\n"
          ]
        }
      ],
      "source": [
        "list1=['red','blue','green','yellow']\n",
        "for x in list1:\n",
        "  print(x)"
      ]
    },
    {
      "cell_type": "markdown",
      "metadata": {
        "id": "RqhLsJFunEPH"
      },
      "source": [
        "# Functions"
      ]
    },
    {
      "cell_type": "code",
      "execution_count": null,
      "metadata": {
        "colab": {
          "base_uri": "https://localhost:8080/"
        },
        "id": "I9vR5nO-GrQ-",
        "outputId": "0aa2a06a-cc06-45c4-b937-b4f3035eaa38"
      },
      "outputs": [
        {
          "name": "stdout",
          "output_type": "stream",
          "text": [
            "function is working.\n"
          ]
        }
      ],
      "source": [
        "def my_function():\n",
        "  print(\"function is working.\")\n",
        "my_function()"
      ]
    },
    {
      "cell_type": "markdown",
      "metadata": {
        "id": "6UZT7Lo2naGx"
      },
      "source": [
        "Taking arguments for functins"
      ]
    },
    {
      "cell_type": "code",
      "execution_count": null,
      "metadata": {
        "colab": {
          "base_uri": "https://localhost:8080/"
        },
        "id": "X1oKcCAdnXNg",
        "outputId": "e4e6d51d-1e96-49ad-dfdd-2218ab0a868d"
      },
      "outputs": [
        {
          "name": "stdout",
          "output_type": "stream",
          "text": [
            "He is Rahul. He scored 90 in the final examination.\n"
          ]
        }
      ],
      "source": [
        "def student_result(name,marks):\n",
        "  print('He is'+' '+name+'. He scored'+' '+str(marks)+' in the final examination.')\n",
        "student_result('Rahul',90)"
      ]
    },
    {
      "cell_type": "markdown",
      "metadata": {
        "id": "ZZnEI2Qhqgwc"
      },
      "source": [
        "creating lambda function. lambda functions can take any number of arguments but only have one expression."
      ]
    },
    {
      "cell_type": "code",
      "execution_count": null,
      "metadata": {
        "colab": {
          "base_uri": "https://localhost:8080/"
        },
        "id": "qnkS-bFKoP6Y",
        "outputId": "e6f4ffec-6e94-4dad-d0bd-754d60e442e7"
      },
      "outputs": [
        {
          "name": "stdout",
          "output_type": "stream",
          "text": [
            "5\n"
          ]
        }
      ],
      "source": [
        "x=lambda a,b:a+b\n",
        "print(x(2,3))"
      ]
    },
    {
      "cell_type": "markdown",
      "metadata": {
        "id": "yLAeNx1Rq66W"
      },
      "source": [
        "**Lambda Functions**"
      ]
    },
    {
      "cell_type": "code",
      "execution_count": null,
      "metadata": {
        "colab": {
          "base_uri": "https://localhost:8080/"
        },
        "id": "hAcJrIRRq5wH",
        "outputId": "15a7c47d-c703-4035-92b4-76b22d777213"
      },
      "outputs": [
        {
          "name": "stdout",
          "output_type": "stream",
          "text": [
            "The expenditure in rupee is 8000\n",
            "The expenditure in euro is 9000\n"
          ]
        }
      ],
      "source": [
        "def expenditure(value):\n",
        "  return lambda a:a*value\n",
        "dollar=expenditure(80)\n",
        "euro=expenditure(90)\n",
        "\n",
        "print('The expenditure in rupee is'+' '+str(dollar(100)))\n",
        "print('The expenditure in euro is'+' '+str(euro(100)))"
      ]
    },
    {
      "cell_type": "markdown",
      "metadata": {
        "id": "KNGL2OScxdBf"
      },
      "source": [
        "generator function: whenever it needs to generate a value, a generator function does so with the yield keyword rather than return."
      ]
    },
    {
      "cell_type": "code",
      "execution_count": null,
      "metadata": {
        "colab": {
          "base_uri": "https://localhost:8080/"
        },
        "id": "rVJaxtHTxiBw",
        "outputId": "847178f5-7d2e-4dc7-9604-6c7787f717b5"
      },
      "outputs": [
        {
          "name": "stdout",
          "output_type": "stream",
          "text": [
            "1\n",
            "2\n",
            "3\n"
          ]
        }
      ],
      "source": [
        "def my_generator():\n",
        "  yield 1\n",
        "  yield 2\n",
        "  yield 3\n",
        "x=my_generator()\n",
        "print(next(x))\n",
        "print(next(x))\n",
        "print(next(x))"
      ]
    },
    {
      "cell_type": "markdown",
      "metadata": {
        "id": "MyrHwW8vubGv"
      },
      "source": [
        "# Classes and Objects"
      ]
    },
    {
      "cell_type": "code",
      "execution_count": null,
      "metadata": {
        "colab": {
          "base_uri": "https://localhost:8080/"
        },
        "id": "5dut2AlSsIo6",
        "outputId": "e0a77bb5-0072-4594-93d8-3548a495eb4f"
      },
      "outputs": [
        {
          "name": "stdout",
          "output_type": "stream",
          "text": [
            "50\n"
          ]
        }
      ],
      "source": [
        "class my_class:\n",
        "  count=50\n",
        "student=my_class()\n",
        "print(student.count)"
      ]
    },
    {
      "cell_type": "markdown",
      "metadata": {
        "id": "sYLnqdCovWm7"
      },
      "source": [
        "use of class and object"
      ]
    },
    {
      "cell_type": "code",
      "execution_count": null,
      "metadata": {
        "colab": {
          "base_uri": "https://localhost:8080/"
        },
        "id": "KeplddfXu2dG",
        "outputId": "ae72adee-a911-4e15-c8dd-2126f803ae46"
      },
      "outputs": [
        {
          "name": "stdout",
          "output_type": "stream",
          "text": [
            "Rahul\n",
            "90\n",
            "Raj\n",
            "80\n"
          ]
        }
      ],
      "source": [
        "class my_class:\n",
        "  def __init__(self,name,marks):\n",
        "    self.name=name\n",
        "    self.marks=marks\n",
        "p1=my_class('Rahul',90)\n",
        "p2=my_class('Raj',80)\n",
        "print(p1.name)\n",
        "print(p1.marks)\n",
        "print(p2.name)\n",
        "print(p2.marks)"
      ]
    },
    {
      "cell_type": "markdown",
      "metadata": {
        "id": "xjgzORNCxs9l"
      },
      "source": [
        "methods object: functions that belong to a method."
      ]
    },
    {
      "cell_type": "code",
      "execution_count": null,
      "metadata": {
        "colab": {
          "base_uri": "https://localhost:8080/"
        },
        "id": "HHPsQBhlwgxj",
        "outputId": "6e668f6a-2bdb-4f2b-e481-487cb209374a"
      },
      "outputs": [
        {
          "name": "stdout",
          "output_type": "stream",
          "text": [
            "He is Rahul. He scored 90 in the final examination.\n"
          ]
        }
      ],
      "source": [
        "class my_class:\n",
        "  def __init__(self,name,marks):\n",
        "    self.name=name\n",
        "    self.marks=marks\n",
        "  def student_result(self):\n",
        "    print('He is'+' '+self.name+'. He scored'+' '+str(self.marks)+' in the final examination.')\n",
        "p1=my_class('Rahul',90)\n",
        "p1.student_result()"
      ]
    },
    {
      "cell_type": "markdown",
      "metadata": {
        "id": "Sb2z_85nBV7A"
      },
      "source": [
        "**Inheritance**"
      ]
    },
    {
      "cell_type": "code",
      "execution_count": null,
      "metadata": {
        "colab": {
          "base_uri": "https://localhost:8080/"
        },
        "id": "KCHxTN0JyLFg",
        "outputId": "b234d151-5d83-4d16-b92d-056ddfdabf8b"
      },
      "outputs": [
        {
          "name": "stdout",
          "output_type": "stream",
          "text": [
            "He is Rahul. He scored 90 in the final examination.\n",
            "His admission year is 2020\n"
          ]
        }
      ],
      "source": [
        "class parent_class:\n",
        "  def __init__(self,name,marks):\n",
        "    self.name=name\n",
        "    self.marks=marks\n",
        "  def student_result(self):\n",
        "    print('He is'+' '+self.name+'. He scored'+' '+str(self.marks)+' in the final examination.')\n",
        "class child_class(parent_class):\n",
        "  def __init__(self,name,marks,year):\n",
        "    super().__init__(name,marks)\n",
        "    self.year=year\n",
        "  def student_admission(self):\n",
        "    print('His admission year is '+str(self.year))\n",
        "p1=child_class('Rahul',90,2020)\n",
        "p1.student_result()\n",
        "p1.student_admission()"
      ]
    },
    {
      "cell_type": "markdown",
      "metadata": {
        "id": "kWkINFPPQber"
      },
      "source": [
        "# File handling"
      ]
    },
    {
      "cell_type": "markdown",
      "metadata": {
        "id": "SIKFda-VSSN8"
      },
      "source": [
        "**Create a file**"
      ]
    },
    {
      "cell_type": "code",
      "execution_count": null,
      "metadata": {
        "id": "bUUbIQNRSUfc"
      },
      "outputs": [],
      "source": [
        "f=open('/content/demo_text.py','x')\n",
        "f.close()"
      ]
    },
    {
      "cell_type": "markdown",
      "metadata": {
        "id": "O5SbYQOdStmt"
      },
      "source": [
        "**write to a file**"
      ]
    },
    {
      "cell_type": "code",
      "execution_count": null,
      "metadata": {
        "id": "qn_DgWGASs4j"
      },
      "outputs": [],
      "source": [
        "f=open('/content/demo_text.py','w')\n",
        "f.write('We are learning file handling.')\n",
        "f.close()"
      ]
    },
    {
      "cell_type": "markdown",
      "metadata": {
        "id": "x-fL80InQsWt"
      },
      "source": [
        "**read a file**"
      ]
    },
    {
      "cell_type": "code",
      "execution_count": null,
      "metadata": {
        "colab": {
          "base_uri": "https://localhost:8080/"
        },
        "id": "bLIZEfQ9Ca4K",
        "outputId": "2ea26090-d31c-49b5-8266-f81b76bccc9b"
      },
      "outputs": [
        {
          "name": "stdout",
          "output_type": "stream",
          "text": [
            "We are learning file handling. We are adding one more sentence.\n"
          ]
        }
      ],
      "source": [
        "f=open('/content/demo_text.py','r')\n",
        "print( f.read())\n",
        "f.close()"
      ]
    },
    {
      "cell_type": "markdown",
      "metadata": {
        "id": "3JDWAB0EUBvm"
      },
      "source": [
        "**append content to the file**"
      ]
    },
    {
      "cell_type": "code",
      "execution_count": null,
      "metadata": {
        "id": "cM03g0UERJTM"
      },
      "outputs": [],
      "source": [
        "f=open('/content/demo_text.py','a')\n",
        "f.write(' We are adding one more sentence.')\n",
        "f.close()"
      ]
    },
    {
      "cell_type": "markdown",
      "metadata": {
        "id": "IKCc3RGeUuw2"
      },
      "source": [
        "**delete the file**"
      ]
    },
    {
      "cell_type": "code",
      "execution_count": null,
      "metadata": {
        "id": "BZEzn3VCUVux"
      },
      "outputs": [],
      "source": [
        "import os\n",
        "os.remove('/content/demo_text.py')"
      ]
    },
    {
      "cell_type": "markdown",
      "metadata": {
        "id": "vSSj-Tl9U71M"
      },
      "source": [
        "# NumPy"
      ]
    },
    {
      "cell_type": "markdown",
      "metadata": {
        "id": "ZhIZzKThV0kn"
      },
      "source": [
        "Installation of numpy"
      ]
    },
    {
      "cell_type": "code",
      "execution_count": null,
      "metadata": {
        "colab": {
          "base_uri": "https://localhost:8080/"
        },
        "id": "ICBZulNNV3qV",
        "outputId": "ca63b6e5-384b-4c89-e914-54d1bc41d04c"
      },
      "outputs": [
        {
          "name": "stdout",
          "output_type": "stream",
          "text": [
            "Requirement already satisfied: numpy in /usr/local/lib/python3.10/dist-packages (1.25.2)\n"
          ]
        }
      ],
      "source": [
        "pip install numpy"
      ]
    },
    {
      "cell_type": "markdown",
      "metadata": {
        "id": "PVES1skpVRDm"
      },
      "source": [
        "import numpy"
      ]
    },
    {
      "cell_type": "code",
      "execution_count": null,
      "metadata": {
        "id": "zoE3H6T0Uzm6"
      },
      "outputs": [],
      "source": [
        "import numpy as np"
      ]
    },
    {
      "cell_type": "markdown",
      "metadata": {
        "id": "kn6fxX_OWHVd"
      },
      "source": [
        "checking version of numpy"
      ]
    },
    {
      "cell_type": "code",
      "execution_count": null,
      "metadata": {
        "colab": {
          "base_uri": "https://localhost:8080/"
        },
        "id": "NHSIHRgYWKxw",
        "outputId": "772e6e32-3023-428f-aead-bfece85ccb13"
      },
      "outputs": [
        {
          "name": "stdout",
          "output_type": "stream",
          "text": [
            "1.25.2\n"
          ]
        }
      ],
      "source": [
        "print(np.__version__)"
      ]
    },
    {
      "cell_type": "markdown",
      "metadata": {
        "id": "QnK9uEsDVZMv"
      },
      "source": [
        "create an array"
      ]
    },
    {
      "cell_type": "code",
      "execution_count": null,
      "metadata": {
        "colab": {
          "base_uri": "https://localhost:8080/"
        },
        "id": "ifOPQG4oVWoi",
        "outputId": "d50bd293-e53b-44bb-f493-ebc08feac6ff"
      },
      "outputs": [
        {
          "name": "stdout",
          "output_type": "stream",
          "text": [
            "[1 2 3 4 5]\n"
          ]
        }
      ],
      "source": [
        "x1=np.array([1,2,3,4,5])\n",
        "print(x1)"
      ]
    },
    {
      "cell_type": "markdown",
      "metadata": {
        "id": "FADPsm-vWqcO"
      },
      "source": [
        "create a 2-D array"
      ]
    },
    {
      "cell_type": "code",
      "execution_count": null,
      "metadata": {
        "colab": {
          "base_uri": "https://localhost:8080/"
        },
        "id": "bHAUjt8uVc46",
        "outputId": "5beffec9-9e91-492b-ddc1-6267bcc2b68d"
      },
      "outputs": [
        {
          "name": "stdout",
          "output_type": "stream",
          "text": [
            "[[1 2 3]\n",
            " [4 5 6]]\n"
          ]
        }
      ],
      "source": [
        "x2=np.array(([1,2,3],[4,5,6]))\n",
        "print(x2)"
      ]
    },
    {
      "cell_type": "code",
      "execution_count": null,
      "metadata": {
        "colab": {
          "base_uri": "https://localhost:8080/"
        },
        "id": "ip2NJy5qeRNp",
        "outputId": "0273483d-eff3-4fb6-d262-f4bd3579edaa"
      },
      "outputs": [
        {
          "name": "stdout",
          "output_type": "stream",
          "text": [
            "[[0. 0. 0.]\n",
            " [0. 0. 0.]]\n"
          ]
        }
      ],
      "source": [
        "z=np.zeros((2,3))\n",
        "print(z)"
      ]
    },
    {
      "cell_type": "code",
      "execution_count": null,
      "metadata": {
        "colab": {
          "base_uri": "https://localhost:8080/"
        },
        "id": "vYc811l5eYKC",
        "outputId": "092fabbb-2a2b-4d0d-adaa-10ab2aa0be3e"
      },
      "outputs": [
        {
          "name": "stdout",
          "output_type": "stream",
          "text": [
            "[[1. 1. 1.]\n",
            " [1. 1. 1.]]\n"
          ]
        }
      ],
      "source": [
        "o=np.ones((2,3))\n",
        "print(o)"
      ]
    },
    {
      "cell_type": "code",
      "execution_count": null,
      "metadata": {
        "colab": {
          "base_uri": "https://localhost:8080/"
        },
        "id": "OyG5SfzqfMz6",
        "outputId": "21521375-24c8-45c8-89b6-01b2b4886396"
      },
      "outputs": [
        {
          "data": {
            "text/plain": [
              "array([[0.13995317, 0.27153477, 0.35309184],\n",
              "       [0.05768521, 0.64647806, 0.08689631]])"
            ]
          },
          "execution_count": 69,
          "metadata": {},
          "output_type": "execute_result"
        }
      ],
      "source": [
        "np.random.rand(2,3)"
      ]
    },
    {
      "cell_type": "code",
      "execution_count": null,
      "metadata": {
        "colab": {
          "base_uri": "https://localhost:8080/"
        },
        "id": "9oFq0OM4ebTo",
        "outputId": "744933b4-8fec-4144-aaae-187a6a7a38de"
      },
      "outputs": [
        {
          "data": {
            "text/plain": [
              "array([[6, 9, 1],\n",
              "       [5, 3, 9]])"
            ]
          },
          "execution_count": 65,
          "metadata": {},
          "output_type": "execute_result"
        }
      ],
      "source": [
        "np.random.randint(10,size=(2,3))"
      ]
    },
    {
      "cell_type": "markdown",
      "metadata": {
        "id": "glAevw_FW4oB"
      },
      "source": [
        "indexing numpy array"
      ]
    },
    {
      "cell_type": "code",
      "execution_count": null,
      "metadata": {
        "colab": {
          "base_uri": "https://localhost:8080/"
        },
        "id": "Wi14SvyzWu1r",
        "outputId": "dd413e4b-0604-4413-f1c5-9ad7c8151fdc"
      },
      "outputs": [
        {
          "name": "stdout",
          "output_type": "stream",
          "text": [
            "3\n",
            "5\n",
            "6\n"
          ]
        }
      ],
      "source": [
        "print(x1[2])\n",
        "print(x1[-1])\n",
        "print(x2[1,2])"
      ]
    },
    {
      "cell_type": "markdown",
      "metadata": {
        "id": "XLL5-LC4Xf3n"
      },
      "source": [
        "slicing numpy array"
      ]
    },
    {
      "cell_type": "code",
      "execution_count": null,
      "metadata": {
        "colab": {
          "base_uri": "https://localhost:8080/"
        },
        "id": "Ju7LRRApXA-z",
        "outputId": "e38f620a-000c-4f03-87a4-faf39d683963"
      },
      "outputs": [
        {
          "name": "stdout",
          "output_type": "stream",
          "text": [
            "[2 3 4]\n",
            "[[4 5]]\n"
          ]
        }
      ],
      "source": [
        "print(x1[1:4])\n",
        "print(x2[1:,:2])"
      ]
    },
    {
      "cell_type": "markdown",
      "metadata": {
        "id": "exCFW_qKYSlX"
      },
      "source": [
        "checking data type of an array"
      ]
    },
    {
      "cell_type": "code",
      "execution_count": null,
      "metadata": {
        "colab": {
          "base_uri": "https://localhost:8080/"
        },
        "id": "61r8wqiJXwuL",
        "outputId": "1bb37c69-2dd5-4810-a864-15ece61172c1"
      },
      "outputs": [
        {
          "name": "stdout",
          "output_type": "stream",
          "text": [
            "int64\n"
          ]
        }
      ],
      "source": [
        "print(x1.dtype)"
      ]
    },
    {
      "cell_type": "markdown",
      "metadata": {
        "id": "Dm2N1IluYgW-"
      },
      "source": [
        "create an array of specific datatype"
      ]
    },
    {
      "cell_type": "code",
      "execution_count": null,
      "metadata": {
        "colab": {
          "base_uri": "https://localhost:8080/"
        },
        "id": "djo0WnpwYaSz",
        "outputId": "0ff51feb-3ce3-45d1-be44-b4c54293faf6"
      },
      "outputs": [
        {
          "name": "stdout",
          "output_type": "stream",
          "text": [
            "[1. 2. 3. 4. 5.]\n",
            "float64\n"
          ]
        }
      ],
      "source": [
        "x=np.array([1,2,3,4,5],dtype=float)\n",
        "print(x)\n",
        "print(x.dtype)"
      ]
    },
    {
      "cell_type": "markdown",
      "metadata": {
        "id": "vwaY4nbXY-zZ"
      },
      "source": [
        "get the shape of an array"
      ]
    },
    {
      "cell_type": "code",
      "execution_count": null,
      "metadata": {
        "colab": {
          "base_uri": "https://localhost:8080/"
        },
        "id": "nc3hht_xYlhT",
        "outputId": "3f91b32b-78c3-4a13-c0b2-6e02032ce796"
      },
      "outputs": [
        {
          "name": "stdout",
          "output_type": "stream",
          "text": [
            "(5,)\n",
            "(2, 3)\n"
          ]
        }
      ],
      "source": [
        "print(x1.shape)\n",
        "print(x2.shape)"
      ]
    },
    {
      "cell_type": "markdown",
      "metadata": {
        "id": "R3-nrA5VZNbg"
      },
      "source": [
        "reshaping an array"
      ]
    },
    {
      "cell_type": "code",
      "execution_count": null,
      "metadata": {
        "colab": {
          "base_uri": "https://localhost:8080/"
        },
        "id": "iQkq2uGUZGqb",
        "outputId": "0536c3e5-6884-4c57-b1b2-f70c11312439"
      },
      "outputs": [
        {
          "name": "stdout",
          "output_type": "stream",
          "text": [
            "[[1 2]\n",
            " [3 4]\n",
            " [5 6]]\n",
            "(3, 2)\n"
          ]
        }
      ],
      "source": [
        "x3=x2.reshape(3,2)\n",
        "print(x3)\n",
        "print(x3.shape)"
      ]
    },
    {
      "cell_type": "markdown",
      "metadata": {
        "id": "nCZlXl8Cfw6J"
      },
      "source": [
        "transposing an array"
      ]
    },
    {
      "cell_type": "code",
      "execution_count": null,
      "metadata": {
        "colab": {
          "base_uri": "https://localhost:8080/"
        },
        "id": "XkZqGlqVf0Aw",
        "outputId": "dcbd53af-57ec-44b7-cb83-cf14dc279a96"
      },
      "outputs": [
        {
          "name": "stdout",
          "output_type": "stream",
          "text": [
            "[[1 3 5]\n",
            " [2 4 6]]\n"
          ]
        }
      ],
      "source": [
        "print(np.transpose(x3))"
      ]
    },
    {
      "cell_type": "markdown",
      "metadata": {
        "id": "TbaxBUqXgkTh"
      },
      "source": [
        "flatten"
      ]
    },
    {
      "cell_type": "code",
      "execution_count": null,
      "metadata": {
        "colab": {
          "base_uri": "https://localhost:8080/"
        },
        "id": "4Bu_JTNRgdiB",
        "outputId": "bbf79caa-7e68-4104-c3f9-58a1e80faa0d"
      },
      "outputs": [
        {
          "name": "stdout",
          "output_type": "stream",
          "text": [
            "[1 2 3 4 5 6]\n"
          ]
        }
      ],
      "source": [
        "print(np.ravel(x3))"
      ]
    },
    {
      "cell_type": "markdown",
      "metadata": {
        "id": "RJbu8zWUZ6vX"
      },
      "source": [
        "joing two arrays"
      ]
    },
    {
      "cell_type": "code",
      "execution_count": null,
      "metadata": {
        "colab": {
          "base_uri": "https://localhost:8080/"
        },
        "id": "jzma9-14ZZCa",
        "outputId": "56c71141-5877-4a7f-b1db-93fb11de94f7"
      },
      "outputs": [
        {
          "name": "stdout",
          "output_type": "stream",
          "text": [
            "[[ 1  2  3  4]\n",
            " [ 5  6  7  8]\n",
            " [ 9 10 11 12]\n",
            " [13 14 15 16]]\n"
          ]
        }
      ],
      "source": [
        "x4=np.array(([1,2,3,4],[5,6,7,8]))\n",
        "x5=np.array(([9,10,11,12],[13,14,15,16]))\n",
        "x6=np.concatenate((x4,x5),axis=0)\n",
        "print(x6)"
      ]
    },
    {
      "cell_type": "markdown",
      "metadata": {
        "id": "ZCGKGEmpeInA"
      },
      "source": [
        "arithmatical operation"
      ]
    },
    {
      "cell_type": "markdown",
      "metadata": {
        "id": "7Njo9NIXhRWQ"
      },
      "source": [
        "addition"
      ]
    },
    {
      "cell_type": "code",
      "execution_count": null,
      "metadata": {
        "colab": {
          "base_uri": "https://localhost:8080/"
        },
        "id": "9NfSUWxChS4i",
        "outputId": "0e4ce780-95d5-42db-e028-f0e924696ca2"
      },
      "outputs": [
        {
          "name": "stdout",
          "output_type": "stream",
          "text": [
            "x7\n",
            "[[1 2 3 4]\n",
            " [5 6 7 8]]\n",
            "x8\n",
            "[[ 9 10 11 12]\n",
            " [13 14 15 16]]\n",
            "x7+x8\n",
            "[[10 12 14 16]\n",
            " [18 20 22 24]]\n"
          ]
        }
      ],
      "source": [
        "x7=np.array(([1,2,3,4],[5,6,7,8]))\n",
        "x8=np.array(([9,10,11,12],[13,14,15,16]))\n",
        "print('x7')\n",
        "print(x7)\n",
        "print('x8')\n",
        "print(x8)\n",
        "print('x7+x8')\n",
        "print(x7+x8)"
      ]
    },
    {
      "cell_type": "markdown",
      "metadata": {
        "id": "eytVZJOthyrx"
      },
      "source": [
        "multiplication"
      ]
    },
    {
      "cell_type": "code",
      "execution_count": null,
      "metadata": {
        "colab": {
          "base_uri": "https://localhost:8080/"
        },
        "id": "og9PLv5vh2Ai",
        "outputId": "76b17950-d3d8-4ae0-f195-2d2017bf2cef"
      },
      "outputs": [
        {
          "name": "stdout",
          "output_type": "stream",
          "text": [
            "x7\n",
            "[[1 2 3 4]\n",
            " [5 6 7 8]]\n",
            "x8\n",
            "[[ 9 10 11 12]\n",
            " [13 14 15 16]]\n",
            "x7*x8\n",
            "[[  9  20  33  48]\n",
            " [ 65  84 105 128]]\n"
          ]
        }
      ],
      "source": [
        "x7=np.array(([1,2,3,4],[5,6,7,8]))\n",
        "x8=np.array(([9,10,11,12],[13,14,15,16]))\n",
        "print('x7')\n",
        "print(x7)\n",
        "print('x8')\n",
        "print(x8)\n",
        "print('x7*x8')\n",
        "print(x7*x8)"
      ]
    },
    {
      "cell_type": "markdown",
      "metadata": {
        "id": "HTQ6gI3fiAcs"
      },
      "source": [
        "dot product"
      ]
    },
    {
      "cell_type": "code",
      "execution_count": null,
      "metadata": {
        "colab": {
          "base_uri": "https://localhost:8080/"
        },
        "id": "LDZc-AbfiDBU",
        "outputId": "caf55d71-38a0-4ade-ba23-6bd5f9678c2c"
      },
      "outputs": [
        {
          "name": "stdout",
          "output_type": "stream",
          "text": [
            "x7\n",
            "[[1 2 3 4]\n",
            " [5 6 7 8]]\n",
            "x8\n",
            "[[ 9 10]\n",
            " [11 12]\n",
            " [13 14]\n",
            " [15 16]]\n",
            "x7.dot(x8)\n",
            "[[130 140]\n",
            " [322 348]]\n"
          ]
        }
      ],
      "source": [
        "x7=np.array(([1,2,3,4],[5,6,7,8]))\n",
        "x8=np.array(([9,10],[11,12],[13,14],[15,16]))\n",
        "print('x7')\n",
        "print(x7)\n",
        "print('x8')\n",
        "print(x8)\n",
        "print('x7.dot(x8)')\n",
        "print(x7.dot(x8))"
      ]
    },
    {
      "cell_type": "markdown",
      "metadata": {
        "id": "eLB5u-agjFgp"
      },
      "source": [
        "statistical measures"
      ]
    },
    {
      "cell_type": "code",
      "execution_count": null,
      "metadata": {
        "colab": {
          "base_uri": "https://localhost:8080/"
        },
        "id": "Y7r9fiXAjIx8",
        "outputId": "d0140de4-db3c-4c80-a5d4-f0cd40782da0"
      },
      "outputs": [
        {
          "name": "stdout",
          "output_type": "stream",
          "text": [
            "8\n",
            "1\n",
            "4.5\n",
            "4.5\n",
            "2.29128784747792\n",
            "[4. 4. 4. 4.]\n",
            "0\n",
            "7\n"
          ]
        }
      ],
      "source": [
        "print(np.max(x7))#maximum value\n",
        "print(np.min(x7))#minimum value\n",
        "print(np.mean(x7))#mean\n",
        "print(np.median(x7))#median\n",
        "print(np.std(x7))#standard deviation\n",
        "print(np.var(x7,axis=0))#variance\n",
        "print(np.argmin(x7))#position of minimum value\n",
        "print(np.argmax(x7))#position of maximum value"
      ]
    },
    {
      "cell_type": "markdown",
      "metadata": {
        "id": "J09MXwIiksOj"
      },
      "source": [
        "saving and loading"
      ]
    },
    {
      "cell_type": "code",
      "execution_count": null,
      "metadata": {
        "colab": {
          "base_uri": "https://localhost:8080/"
        },
        "id": "STvkpdPlkvGd",
        "outputId": "0b164c4a-61f8-48bb-8c6a-ef4216d18482"
      },
      "outputs": [
        {
          "name": "stdout",
          "output_type": "stream",
          "text": [
            "[[1 2 3 4]\n",
            " [5 6 7 8]]\n"
          ]
        }
      ],
      "source": [
        "np.save('/content/numpyarray.npy',x7)\n",
        "loaded_array=np.load('/content/numpyarray.npy')\n",
        "print(loaded_array)"
      ]
    },
    {
      "cell_type": "markdown",
      "metadata": {
        "id": "bVibetnTbVHn"
      },
      "source": [
        "# Matplotlib"
      ]
    },
    {
      "cell_type": "markdown",
      "metadata": {
        "id": "qctJYAOKlgUV"
      },
      "source": [
        "installing"
      ]
    },
    {
      "cell_type": "code",
      "execution_count": null,
      "metadata": {
        "colab": {
          "base_uri": "https://localhost:8080/"
        },
        "id": "4VEFC_HnaWgR",
        "outputId": "10671146-6a5e-44e1-862f-a02a0023065c"
      },
      "outputs": [
        {
          "name": "stdout",
          "output_type": "stream",
          "text": [
            "Requirement already satisfied: matplotlib in /usr/local/lib/python3.10/dist-packages (3.7.1)\n",
            "Requirement already satisfied: contourpy>=1.0.1 in /usr/local/lib/python3.10/dist-packages (from matplotlib) (1.2.1)\n",
            "Requirement already satisfied: cycler>=0.10 in /usr/local/lib/python3.10/dist-packages (from matplotlib) (0.12.1)\n",
            "Requirement already satisfied: fonttools>=4.22.0 in /usr/local/lib/python3.10/dist-packages (from matplotlib) (4.53.1)\n",
            "Requirement already satisfied: kiwisolver>=1.0.1 in /usr/local/lib/python3.10/dist-packages (from matplotlib) (1.4.5)\n",
            "Requirement already satisfied: numpy>=1.20 in /usr/local/lib/python3.10/dist-packages (from matplotlib) (1.25.2)\n",
            "Requirement already satisfied: packaging>=20.0 in /usr/local/lib/python3.10/dist-packages (from matplotlib) (24.1)\n",
            "Requirement already satisfied: pillow>=6.2.0 in /usr/local/lib/python3.10/dist-packages (from matplotlib) (9.4.0)\n",
            "Requirement already satisfied: pyparsing>=2.3.1 in /usr/local/lib/python3.10/dist-packages (from matplotlib) (3.1.2)\n",
            "Requirement already satisfied: python-dateutil>=2.7 in /usr/local/lib/python3.10/dist-packages (from matplotlib) (2.8.2)\n",
            "Requirement already satisfied: six>=1.5 in /usr/local/lib/python3.10/dist-packages (from python-dateutil>=2.7->matplotlib) (1.16.0)\n"
          ]
        }
      ],
      "source": [
        "pip install matplotlib"
      ]
    },
    {
      "cell_type": "markdown",
      "metadata": {
        "id": "0DoWEKJXlmzM"
      },
      "source": [
        "importing"
      ]
    },
    {
      "cell_type": "code",
      "execution_count": null,
      "metadata": {
        "id": "7DJwiKqllh1H"
      },
      "outputs": [],
      "source": [
        "import matplotlib"
      ]
    },
    {
      "cell_type": "markdown",
      "metadata": {
        "id": "vzJzGvvJltTJ"
      },
      "source": [
        "checking version"
      ]
    },
    {
      "cell_type": "code",
      "execution_count": null,
      "metadata": {
        "colab": {
          "base_uri": "https://localhost:8080/"
        },
        "id": "mtEug87MloNn",
        "outputId": "f32a1b3c-7980-4d70-9f5c-f9cdb1018cc1"
      },
      "outputs": [
        {
          "name": "stdout",
          "output_type": "stream",
          "text": [
            "3.7.1\n"
          ]
        }
      ],
      "source": [
        "print(matplotlib.__version__)"
      ]
    },
    {
      "cell_type": "markdown",
      "metadata": {
        "id": "VUPjS8pEl1mk"
      },
      "source": [
        "pyplot"
      ]
    },
    {
      "cell_type": "code",
      "execution_count": null,
      "metadata": {
        "id": "evwv6JD0lvPn"
      },
      "outputs": [],
      "source": [
        "import matplotlib.pyplot as plt"
      ]
    },
    {
      "cell_type": "markdown",
      "metadata": {
        "id": "gpoHAeeSma1q"
      },
      "source": [
        "plot using matplotlib"
      ]
    },
    {
      "cell_type": "code",
      "execution_count": null,
      "metadata": {
        "colab": {
          "base_uri": "https://localhost:8080/",
          "height": 472
        },
        "id": "KZnXbR7Xl27_",
        "outputId": "35d34ec4-0d54-431b-c071-ca5542dae492"
      },
      "outputs": [
        {
          "data": {
            "image/png": "[encoded data removed]",
            "text/plain": [
              "<Figure size 640x480 with 1 Axes>"
            ]
          },
          "metadata": {},
          "output_type": "display_data"
        }
      ],
      "source": [
        "x=[1,2,3,4,5]\n",
        "y1=[1,4,9,16,25]\n",
        "y2=[1,8,27,64,125]\n",
        "plt.plot(x,y1,label='y1',c='red')\n",
        "plt.plot(x,y2,label='y2',c='blue')\n",
        "plt.legend()\n",
        "plt.title('graph')\n",
        "plt.xlabel('x-axis')\n",
        "plt.ylabel('y-axis')\n",
        "plt.grid()\n",
        "plt.show()"
      ]
    },
    {
      "cell_type": "markdown",
      "metadata": {
        "id": "aBCvVi1CnB6V"
      },
      "source": [
        "subplot"
      ]
    },
    {
      "cell_type": "code",
      "execution_count": null,
      "metadata": {
        "colab": {
          "base_uri": "https://localhost:8080/",
          "height": 430
        },
        "id": "8KmAspRZmrno",
        "outputId": "2e2c2223-2d6f-46f5-d72a-9406ea229325"
      },
      "outputs": [
        {
          "data": {
            "image/png": "[encoded data removed]",
            "text/plain": [
              "<Figure size 640x480 with 2 Axes>"
            ]
          },
          "metadata": {},
          "output_type": "display_data"
        }
      ],
      "source": [
        "x1=[1,2,3,4,5]\n",
        "y1=[1,4,9,16,25]\n",
        "x2=[1,2,3,4,5]\n",
        "y2=[2,4,6,8,10]\n",
        "plt.subplot(1,2,1)\n",
        "plt.plot(x1,y1)\n",
        "plt.subplot(1,2,2)\n",
        "plt.plot(x2,y2)\n",
        "plt.show()\n"
      ]
    },
    {
      "cell_type": "markdown",
      "metadata": {
        "id": "Ad29OdihnZce"
      },
      "source": [
        "scatter plot"
      ]
    },
    {
      "cell_type": "code",
      "execution_count": null,
      "metadata": {
        "colab": {
          "base_uri": "https://localhost:8080/",
          "height": 430
        },
        "id": "ZrZNtrhPnK5v",
        "outputId": "3cfc9267-27ba-4351-d8a4-632f5108d8df"
      },
      "outputs": [
        {
          "data": {
            "image/png": "[encoded data removed]",
            "text/plain": [
              "<Figure size 640x480 with 1 Axes>"
            ]
          },
          "metadata": {},
          "output_type": "display_data"
        }
      ],
      "source": [
        "x=[1,2,3,4,5]\n",
        "y=[1,4,9,16,25]\n",
        "plt.scatter(x,y)\n",
        "plt.show()"
      ]
    },
    {
      "cell_type": "markdown",
      "metadata": {
        "id": "LPuHKHnLof_F"
      },
      "source": [
        "barplot"
      ]
    },
    {
      "cell_type": "code",
      "execution_count": null,
      "metadata": {
        "colab": {
          "base_uri": "https://localhost:8080/",
          "height": 430
        },
        "id": "TxJcAlHxnjg_",
        "outputId": "5e54c372-4a6e-46ce-874f-f319c33e6a3e"
      },
      "outputs": [
        {
          "data": {
            "image/png": "[encoded data removed]",
            "text/plain": [
              "<Figure size 640x480 with 1 Axes>"
            ]
          },
          "metadata": {},
          "output_type": "display_data"
        }
      ],
      "source": [
        "x=[1,2,3,4,5]\n",
        "y=[1,4,9,16,25]\n",
        "plt.bar(x,y,width=0.5)\n",
        "plt.show()"
      ]
    },
    {
      "cell_type": "markdown",
      "metadata": {
        "id": "tweB7SdWor5L"
      },
      "source": [
        "horizontal bar"
      ]
    },
    {
      "cell_type": "code",
      "execution_count": null,
      "metadata": {
        "colab": {
          "base_uri": "https://localhost:8080/",
          "height": 430
        },
        "id": "7jFssZnFoie5",
        "outputId": "2b061238-50f5-4c90-fdcf-595af122c012"
      },
      "outputs": [
        {
          "data": {
            "image/png": "[encoded data removed]",
            "text/plain": [
              "<Figure size 640x480 with 1 Axes>"
            ]
          },
          "metadata": {},
          "output_type": "display_data"
        }
      ],
      "source": [
        "x=[1,2,3,4,5]\n",
        "y=[1,4,9,16,25]\n",
        "plt.barh(x,y,height=0.5)\n",
        "plt.show()"
      ]
    },
    {
      "cell_type": "markdown",
      "metadata": {
        "id": "hsSJmTfgpRG2"
      },
      "source": [
        "histogram"
      ]
    },
    {
      "cell_type": "code",
      "execution_count": null,
      "metadata": {
        "colab": {
          "base_uri": "https://localhost:8080/",
          "height": 430
        },
        "id": "bD7ZtFuxouvt",
        "outputId": "bef57ecc-7e1d-4ac4-aab2-a1d5d4c4d4ad"
      },
      "outputs": [
        {
          "data": {
            "image/png": "[encoded data removed]",
            "text/plain": [
              "<Figure size 640x480 with 1 Axes>"
            ]
          },
          "metadata": {},
          "output_type": "display_data"
        }
      ],
      "source": [
        "x=np.random.normal(170,10,250)\n",
        "plt.hist(x)\n",
        "plt.show()"
      ]
    },
    {
      "cell_type": "markdown",
      "metadata": {
        "id": "yctGtJunqlcw"
      },
      "source": [
        "piechart"
      ]
    },
    {
      "cell_type": "code",
      "execution_count": null,
      "metadata": {
        "colab": {
          "base_uri": "https://localhost:8080/",
          "height": 406
        },
        "id": "7DOdrRgDpZMY",
        "outputId": "c4f8f2c8-b0b8-4f2b-c410-5d6d47ad53c5"
      },
      "outputs": [
        {
          "data": {
            "image/png": "[encoded data removed]",
            "text/plain": [
              "<Figure size 640x480 with 1 Axes>"
            ]
          },
          "metadata": {},
          "output_type": "display_data"
        }
      ],
      "source": [
        "x=np.array([35,25,25,15])\n",
        "label=['apple','mango','orange','banana']\n",
        "plt.pie(x,labels=label)\n",
        "plt.legend()\n",
        "plt.show()"
      ]
    },
    {
      "cell_type": "markdown",
      "metadata": {
        "id": "aPocouGGrouy"
      },
      "source": [
        "boxplot"
      ]
    },
    {
      "cell_type": "code",
      "execution_count": null,
      "metadata": {
        "colab": {
          "base_uri": "https://localhost:8080/",
          "height": 431
        },
        "id": "Xv__y58XqrdP",
        "outputId": "c65b3e87-e9be-4427-8e2f-730b5497e785"
      },
      "outputs": [
        {
          "data": {
            "image/png": "[encoded data removed]",
            "text/plain": [
              "<Figure size 640x480 with 1 Axes>"
            ]
          },
          "metadata": {},
          "output_type": "display_data"
        }
      ],
      "source": [
        "x=np.random.normal(170,10,250)\n",
        "plt.boxplot(x)\n",
        "plt.show()"
      ]
    },
    {
      "cell_type": "markdown",
      "metadata": {
        "id": "V1SFI-IvsCRH"
      },
      "source": [
        "3-D plot"
      ]
    },
    {
      "cell_type": "code",
      "execution_count": null,
      "metadata": {
        "colab": {
          "base_uri": "https://localhost:8080/",
          "height": 415
        },
        "id": "hN22oDEjrsdG",
        "outputId": "62fd9ac4-e000-4d82-ccea-9a46ff6c9e5b"
      },
      "outputs": [
        {
          "data": {
            "image/png": "[encoded data removed]",
            "text/plain": [
              "<Figure size 640x480 with 1 Axes>"
            ]
          },
          "metadata": {},
          "output_type": "display_data"
        }
      ],
      "source": [
        "x=np.array([1,2,3,4,5])\n",
        "y=np.array([1,4,9,16,25])\n",
        "z=np.array([2,4,6,8,10])\n",
        "fig=plt.figure()\n",
        "ax=fig.add_subplot(projection='3d')\n",
        "ax.scatter(x,y,z)\n",
        "plt.show()"
      ]
    },
    {
      "cell_type": "code",
      "execution_count": null,
      "metadata": {
        "id": "EmxN3jmSsOcs"
      },
      "outputs": [],
      "source": []
    }
  ],
  "metadata": {
    "colab": {
      "provenance": [],
      "include_colab_link": true
    },
    "kernelspec": {
      "display_name": "Python 3 (ipykernel)",
      "language": "python",
      "name": "python3"
    },
    "language_info": {
      "codemirror_mode": {
        "name": "ipython",
        "version": 3
      },
      "file_extension": ".py",
      "mimetype": "text/x-python",
      "name": "python",
      "nbconvert_exporter": "python",
      "pygments_lexer": "ipython3",
      "version": "3.9.6"
    }
  },
  "nbformat": 4,
  "nbformat_minor": 0
}